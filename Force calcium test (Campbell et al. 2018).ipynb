{
 "cells": [
  {
   "cell_type": "markdown",
   "metadata": {},
   "source": [
    "[Link to Campbell et al. 2018 manuscript](https://www.ncbi.nlm.nih.gov/pubmed/30054031)"
   ]
  },
  {
   "cell_type": "markdown",
   "metadata": {},
   "source": [
    "## Import statements"
   ]
  },
  {
   "cell_type": "code",
   "execution_count": 1,
   "metadata": {},
   "outputs": [],
   "source": [
    "from scipy.integrate import odeint\n",
    "import numpy as np\n",
    "from matplotlib import pyplot as plt\n",
    "from scipy.optimize import curve_fit\n",
    "import pandas as pd "
   ]
  },
  {
   "cell_type": "markdown",
   "metadata": {},
   "source": [
    "## Reproduction of the model in the paper"
   ]
  },
  {
   "cell_type": "markdown",
   "metadata": {},
   "source": [
    "### Model schematic from Campbell et al. 2018\n",
    "![Model schematic from Campbell et al. 2018](img/model_scheme.png)"
   ]
  },
  {
   "cell_type": "code",
   "execution_count": 2,
   "metadata": {},
   "outputs": [],
   "source": [
    "\n",
    "## ----------------------------\n",
    "## Thin filament transitions\n",
    "## ----------------------------\n",
    "# N_off : binding sites on the thin filament at which myosin heads could not attach too (Inactive state)\n",
    "# N_on : binding sites on the thin filament which are available for mysoin binding (Active state)\n",
    "# J_on : the number of sites per unit time switching from N_on to N_off\n",
    "# J_off : flux of binding sites through the off transition\n",
    "# k_coop : constant that defines the strength of thin filament cooperativity\n",
    "# N_overlap - N_on: the number of binding sites that overlap with the thick filament are available to the mysoin heads\n",
    "# N_on - N_bound: the number of unbound sites (sites that has no myosin bound but are active)\n",
    "\n",
    "## -----------------------------\n",
    "## Thick filament transitions \n",
    "## -----------------------------\n",
    "# M_off : the proportion of mysoin heads in the off state\n",
    "# M_on: the proportion of myosin heads in the on state\n",
    "# M_FG: the proportion of cross-bridgess attached to actin with spring lengths beween x and x + dx\n",
    "# J_1: the flux of mysoin heads transition from M_off to M_on state depending on the total force and phosphorylation state of RLCs\n",
    "# J_2: the flux of myosin heads ino the off state\n",
    "# J_3: the flux of myosin heads binding to actin\n",
    "# J_4: the flux of myosin detachement step \n",
    "\n",
    "\n",
    "## Scalers for scaling the parameters to have units in nm, nM, ms and N\n",
    "dm = 1e9 # convert m to nm\n",
    "dnm = 1 # convert nm to nm\n",
    "ds = 1e3 # convert sec to msec\n",
    "dms = 1 # convert msec to msec\n",
    "dM = 1e9 # convert molar to nano molar\n",
    "dnM = 1 # convert nano molar to nano molar\n",
    "\n",
    "def filament_model(state, t, Ca, p):\n",
    "    N_on, N_off, M_on, M_off, *M_FG = state\n",
    "    \n",
    "    H = p['H'] ## 1 Phosphorylated RLC, 0 otherwise\n",
    "    n = p['n'] ##XB populations evaluated with 0.5 nM resolution over range -10nm <= x <= 10\n",
    "    k_on = p['k_on'] / dM / ds #nM-1 ms-1\n",
    "    N_overlap = p['N_overlap']\n",
    "    k_coop = p['k_coop']\n",
    "    k_off = p['k_off'] / ds #ms-1\n",
    "    k_1 = p['k_1'] / ds  #ms-1\n",
    "    k_MLCP = p['k_MLCP'] / ds  #ms-1\n",
    "    k_force = p['k_force'] * dm * dm #N-1 nm2\n",
    "    k_2 = p['k_2'] / ds ## ms-1 ??\n",
    "    k_3 = p['k_3'] / dnm / ds #nm-1 ms-1\n",
    "    k_40 = p['k_40'] / ds  #ms-1\n",
    "    k_41 = p['k_41'] / dnm / dnm / dnm / dnm #10 # ?? nm-4\n",
    "    x_ps = p['x_ps'] * dnm #nm\n",
    "    k_cb = p['k_cb'] / dm  ### N nm-1??\n",
    "    N_0 = p['N_0'] / dm / dm ##nm-2\n",
    "    k_B = p['k_B'] * dm  # N nm K-1\n",
    "    T = p['T'] # K Temperature\n",
    "    k_p = p['k_p'] / dm / dm # N nm-2 nm-1\n",
    "    L_0 = p['L_0'] * dnm\n",
    "    L = p ['L'] * dnm\n",
    "\n",
    "    x = np.linspace(-10, 10, n) # Cross-bridge populations were evaluated with 0.5 nm resolution over the range -10 nm < x <10 nm.\n",
    "\n",
    "\n",
    "    Ca = Ca #nM\n",
    "    N_bound = sum(M_FG) #\n",
    "\n",
    "    \n",
    "    \n",
    "    F_passive = k_p * (L - L_0)\n",
    "        \n",
    "    F_active = N_0 * k_cb * sum([M_FG[ii] * (x[ii] + x_ps) for ii in range(n)])\n",
    "    F_total = F_active + F_passive\n",
    "    \n",
    "    \n",
    "    J_on = k_on * Ca * (N_overlap - N_on) * (1 + k_coop * (N_on / N_overlap))\n",
    "    J_off = k_off * (N_on - N_bound) * (1 + k_coop * (N_overlap - N_on) / N_overlap)\n",
    "    \n",
    "    J_1 = (k_1 + H * k_MLCP)*(1 + k_force * F_total) * M_off\n",
    "    J_2 = k_2 * M_on\n",
    "\n",
    "    \n",
    "    d_N_on = J_on - J_off\n",
    "    d_N_off = -J_on + J_off\n",
    "    d_M_off = -J_1 + J_2\n",
    "\n",
    "    J_3 = np.zeros(n)\n",
    "    J_4 = np.zeros(n)\n",
    "    d_M_FG = np.zeros(n)\n",
    "    \n",
    "    for ii in range(n):\n",
    "        J_3[ii] = k_3 * np.exp((-k_cb * x[ii]**2) / (2 * k_B * T)) * M_on * (N_on - N_bound)\n",
    "        J_4[ii] = (k_40 + k_41 * (x[ii] - x_ps)**4) * M_FG[ii]\n",
    "        d_M_FG[ii]  = J_3[ii] - J_4[ii]\n",
    "\n",
    "    d_M_on = (J_1 + sum(J_4)) - (J_2 + sum(J_3))\n",
    "    \n",
    "    return [d_N_on, d_N_off, d_M_on, d_M_off] + list(d_M_FG)\n",
    "\n"
   ]
  },
  {
   "cell_type": "markdown",
   "metadata": {},
   "source": [
    "## Force calcium test with the model and function to fit the curve"
   ]
  },
  {
   "cell_type": "code",
   "execution_count": 3,
   "metadata": {},
   "outputs": [],
   "source": [
    "def f_ca_test(pars = {}):\n",
    "\n",
    "    p = {'H' : 1, 'n' : 41 , 'k_on' : 2.08e7,  'N_overlap' : 1, 'k_coop' : 5.7,\n",
    "         'k_off' : 100, 'k_1' : 6.17,  'k_MLCP' : 1.48, 'k_force' : 1.74e-4, \n",
    "         'k_2' : 200, 'k_3' : 7.11, 'k_40' : 1.69, 'k_41' : 10,\n",
    "         'x_ps' : 1.4, 'k_cb' : 0.001, 'N_0' : 6.9e16, 'k_B' : 1.38e-23, 'T' : 310.15,\n",
    "         'k_p': 28.7, 'L_0':907, 'L':1900}\n",
    "\n",
    "    \n",
    "    if len(pars) > 0:\n",
    "        for k, v in pars.items():\n",
    "            if not (k in p.keys()):\n",
    "                raise NameError(\"Parameter %s is not in the model\" % (k))\n",
    "            p[k] = v\n",
    "\n",
    "    x = np.linspace(-10 , 10, p['n']) # Cross-bridge populations were evaluated with 0.5 nm resolution over the range -10 nm < x < 10 nm.\n",
    "    Fmax = []\n",
    "    ca_list = np.logspace(3, 4, 100) # calcium concentration in the range 10^-3 to 10^-5 nM\n",
    "    init = [0, 1, 0, 1] + [0] * p['n'] ## initial conditions\n",
    "    t_start, t_end, n_pts = 0, 5000, 5000\n",
    "    for ii in ca_list:\n",
    "        t = np.linspace(t_start, t_end, n_pts)\n",
    "        Ca = ii\n",
    "        sol = odeint(filament_model, init, t, args=(Ca, p))\n",
    "        init = sol[-1,:]\n",
    "     \n",
    "        F_active = p['N_0'] / dm / dm * p['k_cb'] / dm * sum([sol[:, ii + 4] * (x[ii] + p['x_ps']) for ii in range(p['n'])])\n",
    "        F_passive = p['k_p'] / dm / dm * (p['L'] - p['L_0'])\n",
    "        Fmax.append(np.max(F_active + F_passive))\n",
    "\n",
    "    return ca_list, Fmax\n",
    "\n",
    "\n",
    "def f_ca_func(ca, h, ca50, fmax, fmin):\n",
    "    return fmin + fmax * ca**h/ (ca**h + ca50**h)\n",
    "\n",
    "\n",
    "def f_ca_fit(ca, force):\n",
    "    popt, pcov = curve_fit(f_ca_func, ca, force, p0 = [7, 1000, max(force), min(force)])\n",
    "    return popt"
   ]
  },
  {
   "cell_type": "markdown",
   "metadata": {},
   "source": [
    "## Example simulatiions (Simulation +MLCK and two sarcomere lengths)"
   ]
  },
  {
   "cell_type": "code",
   "execution_count": 4,
   "metadata": {},
   "outputs": [
    {
     "name": "stderr",
     "output_type": "stream",
     "text": [
      "/home/jaimit/Documents/m2hvenv/lib/python3.6/site-packages/ipykernel_launcher.py:35: RuntimeWarning: invalid value encountered in double_scalars\n"
     ]
    }
   ],
   "source": [
    "ca_list1, fmax1 = f_ca_test(pars = {'H': 1, 'N_overlap':0.4}) \n",
    "ca_list2, fmax2 = f_ca_test(pars = {'H': 1, 'N_overlap':0.8})\n",
    "#ca_list3, fmax3 = f_ca_test(pars = {'H': 1, 'N_overlap':1, 'k_force':0})\n",
    "popt1 = f_ca_fit(ca_list1, np.array(fmax1)*1e15)\n",
    "popt2 = f_ca_fit(ca_list2, np.array(fmax2)*1e15)"
   ]
  },
  {
   "cell_type": "code",
   "execution_count": 5,
   "metadata": {},
   "outputs": [
    {
     "data": {
      "text/plain": [
       "(6, 5)"
      ]
     },
     "execution_count": 5,
     "metadata": {},
     "output_type": "execute_result"
    },
    {
     "data": {
      "image/png": "[encoded data removed]",
      "text/plain": [
       "<Figure size 432x288 with 1 Axes>"
      ]
     },
     "metadata": {
      "needs_background": "light"
     },
     "output_type": "display_data"
    }
   ],
   "source": [
    "fig, ax = plt.subplots(1, 1)\n",
    "ax.plot(-np.log10(ca_list1/1000) + 6, np.array(fmax1) * 1e15, 'k-')\n",
    "ax.plot(-np.log10(ca_list2/1000) + 6, np.array(fmax2) * 1e15, 'r-')\n",
    "\n",
    "ax.plot(-np.log10(ca_list1/1000) + 6,f_ca_func(ca_list1, *popt1), 'k--')\n",
    "ax.plot(-np.log10(ca_list2/1000) + 6,f_ca_func(ca_list2, *popt2), 'r--')\n",
    "\n",
    "ax.set_xlabel('pCa', fontsize  = 24)\n",
    "ax.set_ylabel('Force, kPa', fontsize = 24)\n",
    "ax.set_xlim([6, 5])\n"
   ]
  },
  {
   "cell_type": "code",
   "execution_count": 8,
   "metadata": {},
   "outputs": [
    {
     "data": {
      "text/html": [
       "<div>\n",
       "<style scoped>\n",
       "    .dataframe tbody tr th:only-of-type {\n",
       "        vertical-align: middle;\n",
       "    }\n",
       "\n",
       "    .dataframe tbody tr th {\n",
       "        vertical-align: top;\n",
       "    }\n",
       "\n",
       "    .dataframe thead th {\n",
       "        text-align: right;\n",
       "    }\n",
       "</style>\n",
       "<table border=\"1\" class=\"dataframe\">\n",
       "  <thead>\n",
       "    <tr style=\"text-align: right;\">\n",
       "      <th></th>\n",
       "      <th>n</th>\n",
       "      <th>pCa</th>\n",
       "      <th>color</th>\n",
       "    </tr>\n",
       "  </thead>\n",
       "  <tbody>\n",
       "    <tr>\n",
       "      <th>SL1</th>\n",
       "      <td>4.389936</td>\n",
       "      <td>5.469945</td>\n",
       "      <td>black</td>\n",
       "    </tr>\n",
       "    <tr>\n",
       "      <th>SL2</th>\n",
       "      <td>4.612817</td>\n",
       "      <td>5.492001</td>\n",
       "      <td>red</td>\n",
       "    </tr>\n",
       "  </tbody>\n",
       "</table>\n",
       "</div>"
      ],
      "text/plain": [
       "            n       pCa  color\n",
       "SL1  4.389936  5.469945  black\n",
       "SL2  4.612817  5.492001    red"
      ]
     },
     "execution_count": 8,
     "metadata": {},
     "output_type": "execute_result"
    }
   ],
   "source": [
    "df = pd.DataFrame([popt1, popt2], columns=['n', 'Ca50', 'fmax', 'fmin'])\n",
    "df.index = ['SL1', 'SL2']\n",
    "df['pCa'] = -np.log10(df['Ca50']/1000) + 6\n",
    "df['color'] = ['black', 'red']\n",
    "df[['n', 'pCa', 'color']]"
   ]
  },
  {
   "cell_type": "markdown",
   "metadata": {},
   "source": [
    "### Increase in sarcomere length increases calcium sensisitivity (similar to the paper), however, the Hill coefficient had modest increase with increase in length (unlike the paper where increase in sarcomere length is reported to result in large decrease in the Hill coefficient) "
   ]
  },
  {
   "cell_type": "code",
   "execution_count": null,
   "metadata": {},
   "outputs": [],
   "source": []
  }
 ],
 "metadata": {
  "kernelspec": {
   "display_name": "Python 3",
   "language": "python",
   "name": "python3"
  },
  "language_info": {
   "codemirror_mode": {
    "name": "ipython",
    "version": 3
   },
   "file_extension": ".py",
   "mimetype": "text/x-python",
   "name": "python",
   "nbconvert_exporter": "python",
   "pygments_lexer": "ipython3",
   "version": "3.6.5"
  }
 },
 "nbformat": 4,
 "nbformat_minor": 2
}
